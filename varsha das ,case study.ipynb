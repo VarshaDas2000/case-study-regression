{
 "cells": [
  {
   "cell_type": "code",
   "execution_count": 3,
   "id": "5e5c58d5",
   "metadata": {},
   "outputs": [
    {
     "ename": "SyntaxError",
     "evalue": "invalid syntax (288464643.py, line 1)",
     "output_type": "error",
     "traceback": [
      "\u001b[1;36m  Cell \u001b[1;32mIn[3], line 1\u001b[1;36m\u001b[0m\n\u001b[1;33m    Step1: Data Preprocessing\u001b[0m\n\u001b[1;37m                ^\u001b[0m\n\u001b[1;31mSyntaxError\u001b[0m\u001b[1;31m:\u001b[0m invalid syntax\n"
     ]
    }
   ],
   "source": [
    "\n",
    "import pandas as pd\n",
    "\n",
    "# Load the dataset\n",
    "data = pd.read_csv(\"your_dataset.csv\")  # Replace \"your_dataset.csv\" with the actual filename\n",
    "\n",
    "# Inspect the dataset\n",
    "print(data.head())\n",
    "\n",
    "# Check for missing values\n",
    "print(data.isnull().sum())\n",
    " Prepare the data\n",
    "X = data[['Year']]\n",
    "y = data['Price']\n",
    "\n",
    "\n",
    "from sklearn.model_selection import train_test_split\n",
    "from sklearn.linear_model import LinearRegression\n",
    "from sklearn.metrics import mean_squared_error, r2_score\n",
    "\n",
    "# Split data into training and testing sets\n",
    "X_train, X_test, y_train, y_test = train_test_split(X, y, test_size=0.2, random_state=42)\n",
    "\n",
    "# Train the linear regression model\n",
    "linear_reg = LinearRegression()\n",
    "linear_reg.fit(X_train, y_train)\n",
    "\n",
    "# Make predictions\n",
    "y_pred_linear = linear_reg.predict(X_test)\n",
    "\n",
    "# Evaluate the performance\n",
    "print(\"Linear Regression Performance:\")\n",
    "print(\"Mean Squared Error:\", mean_squared_error(y_test, y_pred_linear))\n",
    "print(\"R-squared:\", r2_score(y_test, y_pred_linear))\n",
    "\n",
    "# Step 3: Lasso Regression Model\n",
    "from sklearn.linear_model import Lasso\n",
    "\n",
    "# Train the Lasso regression model\n",
    "lasso_reg = Lasso(alpha=0.1)  # You can adjust the alpha value for regularization strength\n",
    "lasso_reg.fit(X_train, y_train)\n",
    "\n",
    "# Make predictions\n",
    "y_pred_lasso = las  so_reg.predict(X_test)\n",
    "\n",
    "# Evaluate the performance\n",
    "print(\"\\nLasso Regression Performance:\")\n",
    "print(\"Mean Squared Error:\", mean_squared_error(y_test, y_pred_lasso))\n",
    "print(\"R-squared:\", r2_score(y_test, y_pred_lasso))\n",
    "\n",
    "# Step 4: Model Comparison\n",
    "if r2_score(y_test, y_pred_linear) > r2_score(y_test, y_pred_lasso):\n",
    "    print(\"\\nLinear Regression performs better.\")\n",
    "else:\n",
    "    print(\"\\nLasso Regression performs better.\")\n",
    "\n",
    "# Step 5: Prediction for 2022 Model\n",
    "predicted_price_2022 = linear_reg.predict([[2022]])  # Using the better performing model for prediction\n",
    "    print(\"\\nPredicted price for a 2022 model:\", predicted_price_2022)\n",
    "          "
   ]
  },
  {
   "cell_type": "code",
   "execution_count": null,
   "id": "fe559509",
   "metadata": {},
   "outputs": [],
   "source": []
  }
 ],
 "metadata": {
  "kernelspec": {
   "display_name": "Python 3 (ipykernel)",
   "language": "python",
   "name": "python3"
  },
  "language_info": {
   "codemirror_mode": {
    "name": "ipython",
    "version": 3
   },
   "file_extension": ".py",
   "mimetype": "text/x-python",
   "name": "python",
   "nbconvert_exporter": "python",
   "pygments_lexer": "ipython3",
   "version": "3.11.5"
  }
 },
 "nbformat": 4,
 "nbformat_minor": 5
}
